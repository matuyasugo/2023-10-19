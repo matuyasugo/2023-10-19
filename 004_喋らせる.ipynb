{
  "nbformat": 4,
  "nbformat_minor": 0,
  "metadata": {
    "colab": {
      "provenance": [],
      "include_colab_link": true
    },
    "kernelspec": {
      "name": "python3",
      "display_name": "Python 3"
    },
    "language_info": {
      "name": "python"
    }
  },
  "cells": [
    {
      "cell_type": "markdown",
      "metadata": {
        "id": "view-in-github",
        "colab_type": "text"
      },
      "source": [
        "<a href=\"https://colab.research.google.com/github/matuyasugo/2023-10-19/blob/main/004_%E5%96%8B%E3%82%89%E3%81%9B%E3%82%8B.ipynb\" target=\"_parent\"><img src=\"https://colab.research.google.com/assets/colab-badge.svg\" alt=\"Open In Colab\"/></a>"
      ]
    },
    {
      "cell_type": "code",
      "execution_count": null,
      "metadata": {
        "id": "qn6rvxBLe-pg"
      },
      "outputs": [],
      "source": [
        "# パッケージのインストール\n",
        "%%capture\n",
        "!pip install openai"
      ]
    },
    {
      "cell_type": "markdown",
      "source": [
        "# [Google Colab で OpenAI API の Text-to-Speech を試す](https://note.com/npaka/n/nba4af88eb3cf)\n",
        "\n",
        "- [ ] 「Text-to-Speech」、テキストの読み上げを行うAPIです。6つの内蔵ボイスが付属しており、次の目的で使用できます。"
      ],
      "metadata": {
        "id": "cNtyg-1xfIX7"
      }
    },
    {
      "cell_type": "code",
      "source": [
        "# @title client.audio.speech.create\n",
        "import os\n",
        "os.environ[\"OPENAI_API_KEY\"] = \"ここにapiキーを入れる\"\n",
        "\n",
        "from openai import OpenAI\n",
        "\n",
        "# クライアントの準備\n",
        "client = OpenAI()\n",
        "from pathlib import Path\n",
        "\n",
        "# 利用可能な声の選択\n",
        "available_voices = [\"alloy\", \"echo\", \"fable\", \"onyx\", \"nova\", \"shimmer\"]\n",
        "print(f\"利用可能な声: {', '.join(available_voices)}\")\n",
        "selected_voice = input('使用する声を選択してください (alloy, echo, fable, onyx, nova, shimmer): ')\n",
        "\n",
        "# 選択された声が利用可能なものか確認\n",
        "if selected_voice not in available_voices:\n",
        "    raise ValueError(f\"選択された声 '{selected_voice}' は利用可能な声のリストにありません。\")\n",
        "\n",
        "input_text = input('作成するセリフを入力してください:')\n",
        "\n",
        "# テキストの読み上げ\n",
        "response = client.audio.speech.create(\n",
        "    model=\"tts-1\", # モデルID (tts-1 or tts-1-hd(低品質))\n",
        "    voice=selected_voice,\n",
        "    input=input_text\n",
        ")\n",
        "\n",
        "# 音声ファイルに出力\n",
        "response.stream_to_file(\"./speech.mp3\")"
      ],
      "metadata": {
        "id": "UULyd1xkfyO4",
        "colab": {
          "base_uri": "https://localhost:8080/"
        },
        "outputId": "21eb7ba9-4565-4166-ba75-e713b6289169"
      },
      "execution_count": null,
      "outputs": [
        {
          "name": "stdout",
          "output_type": "stream",
          "text": [
            "利用可能な声: alloy, echo, fable, onyx, nova, shimmer\n",
            "使用する声を選択してください (alloy, echo, fable, onyx, nova, shimmer): shimmer\n",
            "作成するセリフを入力してください:こんにちは　　　　　　　山田です\n"
          ]
        }
      ]
    }
  ]
}